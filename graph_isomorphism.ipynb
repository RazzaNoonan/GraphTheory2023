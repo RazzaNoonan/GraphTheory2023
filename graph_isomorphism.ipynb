{
 "cells": [
  {
   "attachments": {},
   "cell_type": "markdown",
   "metadata": {},
   "source": [
    "# __Graph isomorphism__"
   ]
  },
  {
   "attachments": {},
   "cell_type": "markdown",
   "metadata": {},
   "source": [
    "Author - Ronan Noonan<br>\n",
    "Number - G00384824\n"
   ]
  },
  {
   "attachments": {},
   "cell_type": "markdown",
   "metadata": {},
   "source": [
    "### **Introduction**<br>\n",
    "Graph isomorphism is a fundamental concept in graph theory. It refers to the idea that two graphs are said to be isomorphic if they have the same structure, meaning that they have the same number of vertices and edges, and the vertices can be labeled in a way that preserves the adjacency relationships.<br><br>\n",
    "\n",
    "**Two graphs are isomorphic if they are**\n",
    "- Check if the graphs have the same number of vertices and edges. \n",
    "- To check if two graphs are isomorphic, we can try to find a bijection (one-to-one correspondence) between their vertices that preserves adjacency.\n",
    "- If such a mapping exists, we can check if it also preserves edge adjacency by verifying that the corresponding edges between vertices are also adjacent in the same way.\n",
    "- Isomorphism is an equivalence relation, meaning it is reflexive (every graph is isomorphic to itself), symmetric (if G1 is isomorphic to G2, then G2 is isomorphic to G1), and transitive (if G1 is isomorphic to G2 and G2 is isomorphic to G3, then G1 is isomorphic to G3).\n",
    "\n",
    " "
   ]
  }
 ],
 "metadata": {
  "kernelspec": {
   "display_name": "Python 3",
   "language": "python",
   "name": "python3"
  },
  "language_info": {
   "name": "python",
   "version": "3.11.0 (main, Oct 24 2022, 18:26:48) [MSC v.1933 64 bit (AMD64)]"
  },
  "orig_nbformat": 4,
  "vscode": {
   "interpreter": {
    "hash": "176c50ef35c1bea354c0b29ab49541bc440d8d3995eb0ac67d8fed55fa1f426e"
   }
  }
 },
 "nbformat": 4,
 "nbformat_minor": 2
}
